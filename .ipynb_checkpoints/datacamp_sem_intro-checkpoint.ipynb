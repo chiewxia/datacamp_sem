{
 "cells": [
  {
   "cell_type": "markdown",
   "metadata": {},
   "source": [
    "# Datacamp Search Engine Marketing Campaigns - Intro"
   ]
  },
  {
   "cell_type": "markdown",
   "metadata": {},
   "source": [
    "As a heavy user of Datacamp since two years, I learned quite a lot. My main business is in online marketing, and I have benefited a lot from the data science skills I learned. I'm now able to manage way larger and more complex campaigns, and efficiently maintain them. Since I'm quite familiar now with the content and the different topics and packages in R and Python, I thought about how I might create search campaigns for Datacamp, just as an exercise. Hopefully, this serves as a real life example of how these skills are used in real projects. Here goes. \n",
    "\n",
    "The three main components of a search campaign are:     \n",
    "1. **Keywords:** the user's intention, what they are looking for.     \n",
    "2. **Ads:** your promise to the user for that intention.    \n",
    "3. **Landig pages:** your delivery of the promise.    \n",
    "\n",
    "Mapping those three elements properly is around 70-80% of the job. If you get this right, then  maintenance and changes become much easier. \n",
    "\n",
    "So, in order to be specific and relevant to users, we need to promote the stuff that we have, and mainly focus on sending the right person to the right page, through the right message / expectation. \n",
    "\n",
    "A good campaign structure reflects and follows the structure of the website, which is essentially reflecting the business strategy. "
   ]
  },
  {
   "cell_type": "code",
   "execution_count": 46,
   "metadata": {},
   "outputs": [
    {
     "data": {
      "text/html": [
       "<img src='adgroup_diagram.png' width=650>"
      ],
      "text/plain": [
       "<IPython.core.display.HTML object>"
      ]
     },
     "metadata": {},
     "output_type": "display_data"
    }
   ],
   "source": [
    "%%html\n",
    "<img src='adgroup_diagram.png' width=650>"
   ]
  },
  {
   "cell_type": "markdown",
   "metadata": {},
   "source": [
    "As shown above this is the mapping that we want to achieve. As output we want to end up having two main data frames, one for keywords and another for ads, something like the two data frames below.    \n",
    "Once these are done, we would be ready to upload them as csv files to Google AdWords (other platforms works exactly the same way, but with minor tweaks needed (Bing, Yahoo, Yandex, etc)."
   ]
  },
  {
   "cell_type": "markdown",
   "metadata": {},
   "source": [
    "#### Keywords"
   ]
  },
  {
   "cell_type": "markdown",
   "metadata": {},
   "source": [
    "|Campaign  |Ad Group |Keyword  |\n",
    "|----------|---------|---------|\n",
    "|campaign 1|adgroup 1|keyword 1|\n",
    "|campaign 1|adgroup 2|keyword 2|\n",
    "|campaign 2|adgroup 1|keyword 3|\n",
    "|campaign 2|adgroup 1|keyword 4|\n",
    "|campaign 2|adgroup 2|keyword 5|"
   ]
  },
  {
   "cell_type": "markdown",
   "metadata": {},
   "source": [
    "#### Ads"
   ]
  },
  {
   "cell_type": "markdown",
   "metadata": {},
   "source": [
    "|Campaign   |Ad Group  | Display URL  | Final URL      | Headline 1 | Headline 2  |\n",
    "|-----------|----------|--------------|----------------|------------|-------------|\n",
    "|campaign 1 |adgroup 1 | datacamp.com | datacamp.com/a | Headline 1 | Headline 1a |\n",
    "|campaign 1 |adgroup 2 | datacamp.com | datacamp.com/b | Headline 1 | Headline 1a |\n",
    "|campaign 2 |adgroup 1 | datacamp.com | datacamp.com/c | Headline 1 | Headline 1a |\n",
    "|campaign 2 |adgroup 2 | datacamp.com | datacamp.com/d | Headline 2 | Headline 2a |\n",
    "|campaign 2 |adgroup 3 | datacamp.com | datacamp.com/e | Headline 3 | Headline 1a |"
   ]
  },
  {
   "cell_type": "markdown",
   "metadata": {},
   "source": [
    "Looking at the different ways in which someone can express interest in something that we provide, here is an initial list of some of those ways:    \n",
    "\n",
    "1. **Instructors**: 'Hadley Wickham course', 'courses by Garrett Grolemund', etc\n",
    "2. **Technologies**: 'python course', 'r courses', 'sql data science course', etc\n",
    "3. **Courses**: names of specific courses that we have; 'unsupervised learning in python', 'deep learning in python', etc.\n",
    "4. **Topics**: 'machine learning courses', 'data visualization course', etc\n",
    "5. **Packages** / libraries: 'learn ggplot', 'matplotlib tutorial', etc"
   ]
  },
  {
   "cell_type": "markdown",
   "metadata": {},
   "source": [
    "You will notice in setting up the keywords that I won't go through the traditional keyword research phase, and that's because we have the power of the programming language to generate all possible combinations and group them in their respective campaigns and ad group. \n",
    "\n",
    "Therefore, we need two main things to know in order to do this setup: \n",
    "1. Product knowledge: knowing what courses and topics we have, how they are organized on the website, and how they are grouped. This we can see by browsing, and we can defnitely get better insights with internal knowledge (especially if there are changes planned!).\n",
    "2. Relevant keywords: all the possible ways in which someone might express desire in the things that we provide; 'course', 'learn', 'education', 'tutorial', etc. This can be done by brainstorming, looking into keyword tools, and other methods. \n",
    "\n",
    "Let's start by [generating the keywords.](keyword_generation.ipynb)"
   ]
  }
 ],
 "metadata": {
  "kernelspec": {
   "display_name": "Python 3",
   "language": "python",
   "name": "python3"
  },
  "language_info": {
   "codemirror_mode": {
    "name": "ipython",
    "version": 3
   },
   "file_extension": ".py",
   "mimetype": "text/x-python",
   "name": "python",
   "nbconvert_exporter": "python",
   "pygments_lexer": "ipython3",
   "version": "3.6.3"
  }
 },
 "nbformat": 4,
 "nbformat_minor": 2
}
