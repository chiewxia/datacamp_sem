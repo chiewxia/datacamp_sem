{
 "cells": [
  {
   "cell_type": "markdown",
   "metadata": {},
   "source": [
    "# Datacamp Search Engine Marketing Campaigns"
   ]
  },
  {
   "cell_type": "markdown",
   "metadata": {},
   "source": [
    "As a heavy user of Datacamp since two years, I learned quite a lot. My main business is in online marketing, and I have benefited a lot from the data science skills I learned. I'm now able to manage way larger and more complex campaigns, and efficiently maintain them. Since I'm quite familiar now with the content and the different topics and packages in R and Python, I thought about how I might create search campaigns for Datacamp, just as an exercise. Hopefully, this serves as a real life example of how these skills are used in real projects.    \n",
    "Here goes. \n",
    "\n",
    "The three main components of a search campaign are:     \n",
    "1. **Keywords:** the user's intention, what they are looking for.     \n",
    "2. **Ads:** your promise to the user for that intention.    \n",
    "3. **Landig pages:** your delivery of the promise.    \n",
    "\n",
    "Mapping those three elements properly is around 70-80% of the job. If you get this right, then  maintenance and changes become much easier. \n",
    "\n",
    "So, in order to be specific and relevant to users, we need to promote the stuff that we have, and mainly focus on sending the right person to the right page, through the right message / expectation. \n",
    "\n",
    "A good campaign structure reflects and follows the structure of the website, which is essentially reflecting the business strategy. \n",
    "\n",
    "The basic unit of organization is called the ad group. This is where the mapping of keywords, ads and landing pages happens. Every ad group needs to be part of a campaign. At the campaign level we have settings that govern all ad groups in the campaign; language targeting, locations, devices, time of day, etc. \n",
    "\n",
    "![](adgroup_diagram.png)"
   ]
  },
  {
   "cell_type": "markdown",
   "metadata": {},
   "source": [
    "As shown above this is the mapping that we want to achieve. As output, we want to end up having two main data frames, one for keywords and another for ads, something like the two data frames below.    \n",
    "Once these are done, we would be ready to upload them as csv files to Google AdWords (other platforms works exactly the same way, but with minor tweaks needed (Bing, Yahoo, Yandex, etc)."
   ]
  },
  {
   "cell_type": "markdown",
   "metadata": {},
   "source": [
    "#### Keywords"
   ]
  },
  {
   "cell_type": "markdown",
   "metadata": {},
   "source": [
    "|Campaign  |Ad Group |Keyword  |\n",
    "|----------|---------|---------|\n",
    "|campaign 1|adgroup 1|keyword 1|\n",
    "|campaign 1|adgroup 2|keyword 2|\n",
    "|campaign 2|adgroup 1|keyword 3|\n",
    "|campaign 2|adgroup 1|keyword 4|\n",
    "|campaign 2|adgroup 2|keyword 5|"
   ]
  },
  {
   "cell_type": "markdown",
   "metadata": {},
   "source": [
    "#### Ads"
   ]
  },
  {
   "cell_type": "markdown",
   "metadata": {},
   "source": [
    "|Campaign   |Ad Group  | Display URL  | Final URL      | Headline 1 | Headline 2  |\n",
    "|-----------|----------|--------------|----------------|------------|-------------|\n",
    "|campaign 1 |adgroup 1 | datacamp.com | datacamp.com/a | Headline 1 | Headline 1a |\n",
    "|campaign 1 |adgroup 2 | datacamp.com | datacamp.com/b | Headline 1 | Headline 1a |\n",
    "|campaign 2 |adgroup 1 | datacamp.com | datacamp.com/c | Headline 1 | Headline 1a |\n",
    "|campaign 2 |adgroup 2 | datacamp.com | datacamp.com/d | Headline 2 | Headline 2a |\n",
    "|campaign 2 |adgroup 3 | datacamp.com | datacamp.com/e | Headline 3 | Headline 1a |"
   ]
  },
  {
   "cell_type": "markdown",
   "metadata": {},
   "source": [
    "Looking at the different ways in which someone can express interest in something that we provide, here is an initial list of some of those ways:    \n",
    "\n",
    "1. **Instructors**: 'Hadley Wickham course', 'courses by Garrett Grolemund', etc\n",
    "2. **Technologies**: 'python course', 'r courses', 'sql data science course', etc\n",
    "3. **Courses**: names of specific courses that we have; 'unsupervised learning in python', 'deep learning in python', etc.\n",
    "4. **Topics**: 'machine learning courses', 'data visualization course', etc\n",
    "5. **Packages / libraries**: 'learn ggplot', 'matplotlib tutorial', etc"
   ]
  },
  {
   "cell_type": "markdown",
   "metadata": {},
   "source": [
    "You will notice in setting up the keywords that I won't go through the traditional keyword research phase, and that's because we have the power of the programming language to generate all possible combinations and group them in their respective campaigns and ad group. \n",
    "\n",
    "Therefore, we need two main things to know in order to do this setup: \n",
    "1. Product knowledge: knowing what courses and topics we have, how they are organized on the website, and how they are grouped. This we can see by browsing, and we can defnitely get better insights with internal knowledge (especially if there are changes planned!).\n",
    "2. Relevant keywords: all the possible ways in which someone might express desire in the things that we provide; 'course', 'learn', 'education', 'tutorial', etc. This can be done by brainstorming, looking into keyword tools, and other methods. \n",
    "\n",
    "Let's start by generating the keywords."
   ]
  },
  {
   "cell_type": "markdown",
   "metadata": {},
   "source": [
    "## Keyword Generation"
   ]
  },
  {
   "cell_type": "markdown",
   "metadata": {},
   "source": [
    "## 1. Instructors\n",
    "This campaign will be targeting people who search for courses by any of the instructors at Datacamp. \n",
    "We can have the keywords restricted to \"`course by <instructor name>`\" or we can go for a broad set of keywords targeting the instructor name only. At the beginning, it's better to target the names with 'course' or 'courses' and see the effect.    \n",
    "We will also need to check if any of the names that we have also happens to be the name of another famous person, or a very common name, and then we will need to restrict the keywords for that instructor. \n",
    "\n",
    "We begin by getting the names of the instructors and the URLs for each:"
   ]
  },
  {
   "cell_type": "code",
   "execution_count": 1,
   "metadata": {},
   "outputs": [],
   "source": [
    "import requests\n",
    "from bs4 import BeautifulSoup\n",
    "\n",
    "\n",
    "instructors_page = 'https://www.datacamp.com/instructors?all=true'\n",
    "instructor_link_selector = '.instructor-block__description .instructor-block__link' # CSS class of the link\n",
    "instructor_name_selector = '.mb-sm'  # CSS class of the name\n",
    "\n",
    "instructor_resp = requests.get(instructors_page)\n",
    "soup = BeautifulSoup(instructor_resp.text, 'lxml')\n",
    "\n",
    "instructor_urls = [url['href'] for url in soup.select(instructor_link_selector)]\n",
    "instructor_names = [name.text.strip() for name in soup.select(instructor_name_selector)]\n",
    "instructor_urls = ['https://www.datacamp.com' + url for url in instructor_urls]"
   ]
  },
  {
   "cell_type": "markdown",
   "metadata": {},
   "source": [
    "We put them in a data frame for later use. The URLs will be used later for generating ads."
   ]
  },
  {
   "cell_type": "code",
   "execution_count": 2,
   "metadata": {},
   "outputs": [
    {
     "name": "stdout",
     "output_type": "stream",
     "text": [
      "(65, 2)\n"
     ]
    },
    {
     "data": {
      "text/html": [
       "<div>\n",
       "<style scoped>\n",
       "    .dataframe tbody tr th:only-of-type {\n",
       "        vertical-align: middle;\n",
       "    }\n",
       "\n",
       "    .dataframe tbody tr th {\n",
       "        vertical-align: top;\n",
       "    }\n",
       "\n",
       "    .dataframe thead th {\n",
       "        text-align: right;\n",
       "    }\n",
       "</style>\n",
       "<table border=\"1\" class=\"dataframe\">\n",
       "  <thead>\n",
       "    <tr style=\"text-align: right;\">\n",
       "      <th></th>\n",
       "      <th>name</th>\n",
       "      <th>url</th>\n",
       "    </tr>\n",
       "  </thead>\n",
       "  <tbody>\n",
       "    <tr>\n",
       "      <th>0</th>\n",
       "      <td>Filip Schouwenaars</td>\n",
       "      <td>https://www.datacamp.com/instructors/filipsch</td>\n",
       "    </tr>\n",
       "    <tr>\n",
       "      <th>1</th>\n",
       "      <td>Jonathan Cornelissen</td>\n",
       "      <td>https://www.datacamp.com/instructors/jonathana...</td>\n",
       "    </tr>\n",
       "    <tr>\n",
       "      <th>2</th>\n",
       "      <td>Hugo Bowne-Anderson</td>\n",
       "      <td>https://www.datacamp.com/instructors/hugobowne</td>\n",
       "    </tr>\n",
       "    <tr>\n",
       "      <th>3</th>\n",
       "      <td>Nick Carchedi</td>\n",
       "      <td>https://www.datacamp.com/instructors/nickyc</td>\n",
       "    </tr>\n",
       "    <tr>\n",
       "      <th>4</th>\n",
       "      <td>Greg Wilson</td>\n",
       "      <td>https://www.datacamp.com/instructors/greg48f64...</td>\n",
       "    </tr>\n",
       "  </tbody>\n",
       "</table>\n",
       "</div>"
      ],
      "text/plain": [
       "                   name                                                url\n",
       "0    Filip Schouwenaars      https://www.datacamp.com/instructors/filipsch\n",
       "1  Jonathan Cornelissen  https://www.datacamp.com/instructors/jonathana...\n",
       "2   Hugo Bowne-Anderson     https://www.datacamp.com/instructors/hugobowne\n",
       "3         Nick Carchedi        https://www.datacamp.com/instructors/nickyc\n",
       "4           Greg Wilson  https://www.datacamp.com/instructors/greg48f64..."
      ]
     },
     "execution_count": 2,
     "metadata": {},
     "output_type": "execute_result"
    }
   ],
   "source": [
    "instructor_df = pd.DataFrame({\n",
    "    'name': instructor_names,\n",
    "    'url': instructor_urls\n",
    "})\n",
    "print(instructor_df.shape)\n",
    "instructor_df.head()"
   ]
  },
  {
   "cell_type": "markdown",
   "metadata": {},
   "source": [
    "### Generate Instructor Keywords\n",
    "\n",
    "Now that we have the names of instructors, we will be using a template whereby we combine each name with a set of keywords related to our topic, which is mainly courses by the instructor. \n",
    "\n",
    "Variables used in the code below:\n",
    "\n",
    "`col_names`: This is a list of the header names of the table that we will end up uploading to Google AdWords.    \n",
    "`words`: The words that we will be combining with the instructor names to generate the full keywords / phrases.     \n",
    "`match_types`: More details can be found on [AdWords help center](https://support.google.com/adwords/answer/2497836?hl=en), but here are the basics.     \n",
    "[data science course], \"data science course\", and data science course are technically three different keywords.\n",
    "- exact match (in brackets), will only trigger ads if a user searches for exactly that keyword, 'data science course', for example, written exactly like this.\n",
    "- phrase match (with quotes) , will trigger our ads if a user searches for the exact string together with anything before, or after it. So \"best data science course\", or \"data science course online\" would trigger our ads. \n",
    "- broad match (no punctuation) would trigger our ads if someone searches for anything similar to or related to 'data science course'. This is up to Google's algorithms, and you have to be careful with it, as it might trigger ads when someone searches for 'data science platform' for example, which is not exactly what we are trying to promote. I like to use the modified broach match more, because it restricts targeting a little more. This is basically triggering ads if someoe searches for any derivative of the word, and not any similar word in meaning. This is denoted with a '+' sign at the begininning of the word. So, '+game' would trigger ads by 'gaming', 'gamers', but by 'play'. \n",
    "\n"
   ]
  },
  {
   "cell_type": "code",
   "execution_count": 3,
   "metadata": {},
   "outputs": [
    {
     "name": "stdout",
     "output_type": "stream",
     "text": [
      "total keywords: 2340\n"
     ]
    },
    {
     "data": {
      "text/html": [
       "<div>\n",
       "<style scoped>\n",
       "    .dataframe tbody tr th:only-of-type {\n",
       "        vertical-align: middle;\n",
       "    }\n",
       "\n",
       "    .dataframe tbody tr th {\n",
       "        vertical-align: top;\n",
       "    }\n",
       "\n",
       "    .dataframe thead th {\n",
       "        text-align: right;\n",
       "    }\n",
       "</style>\n",
       "<table border=\"1\" class=\"dataframe\">\n",
       "  <thead>\n",
       "    <tr style=\"text-align: right;\">\n",
       "      <th></th>\n",
       "      <th>Campaign</th>\n",
       "      <th>Ad Group</th>\n",
       "      <th>Keyword</th>\n",
       "      <th>Criterion Type</th>\n",
       "    </tr>\n",
       "  </thead>\n",
       "  <tbody>\n",
       "    <tr>\n",
       "      <th>0</th>\n",
       "      <td>SEM_Instructors</td>\n",
       "      <td>Filip Schouwenaars</td>\n",
       "      <td>filip schouwenaars course</td>\n",
       "      <td>Exact</td>\n",
       "    </tr>\n",
       "    <tr>\n",
       "      <th>1</th>\n",
       "      <td>SEM_Instructors</td>\n",
       "      <td>Filip Schouwenaars</td>\n",
       "      <td>filip schouwenaars course</td>\n",
       "      <td>Phrase</td>\n",
       "    </tr>\n",
       "    <tr>\n",
       "      <th>2</th>\n",
       "      <td>SEM_Instructors</td>\n",
       "      <td>Filip Schouwenaars</td>\n",
       "      <td>+filip +schouwenaars +course</td>\n",
       "      <td>Broad</td>\n",
       "    </tr>\n",
       "    <tr>\n",
       "      <th>3</th>\n",
       "      <td>SEM_Instructors</td>\n",
       "      <td>Filip Schouwenaars</td>\n",
       "      <td>filip schouwenaars courses</td>\n",
       "      <td>Exact</td>\n",
       "    </tr>\n",
       "    <tr>\n",
       "      <th>4</th>\n",
       "      <td>SEM_Instructors</td>\n",
       "      <td>Filip Schouwenaars</td>\n",
       "      <td>filip schouwenaars courses</td>\n",
       "      <td>Phrase</td>\n",
       "    </tr>\n",
       "  </tbody>\n",
       "</table>\n",
       "</div>"
      ],
      "text/plain": [
       "          Campaign            Ad Group                       Keyword Criterion Type\n",
       "0  SEM_Instructors  Filip Schouwenaars     filip schouwenaars course          Exact\n",
       "1  SEM_Instructors  Filip Schouwenaars     filip schouwenaars course         Phrase\n",
       "2  SEM_Instructors  Filip Schouwenaars  +filip +schouwenaars +course          Broad\n",
       "3  SEM_Instructors  Filip Schouwenaars    filip schouwenaars courses          Exact\n",
       "4  SEM_Instructors  Filip Schouwenaars    filip schouwenaars courses         Phrase"
      ]
     },
     "execution_count": 3,
     "metadata": {},
     "output_type": "execute_result"
    }
   ],
   "source": [
    "col_names = ['Campaign', 'Ad Group', 'Keyword', 'Criterion Type']\n",
    "instructor_keywords = []\n",
    "\n",
    "words = ['course', 'courses', 'learn', 'data science', 'data camp', 'datacamp']\n",
    "match_types = ['Exact', 'Phrase', 'Broad']\n",
    "for instructor in instructor_df['name']:\n",
    "    for word in words:\n",
    "        for match in match_types:\n",
    "            if match == 'Broad':\n",
    "                keyword = '+' + ' +'.join([instructor.replace(' ', ' +').lower(), word])  # modified broach match\n",
    "            else:\n",
    "                keyword = instructor.lower() + ' ' + word\n",
    "            row = ['SEM_Instructors',  # campaign name\n",
    "                   instructor,  # ad group name\n",
    "                   keyword, # instructor <keyword>\n",
    "                   match]  # keyword match type\n",
    "            instructor_keywords.append(row)\n",
    "\n",
    "# do the same by having the keywords come before the instructor name\n",
    "for instructor in instructor_df['name']:\n",
    "    for word in words:\n",
    "        for match in match_types:\n",
    "            if match == 'Broad':\n",
    "                keyword = '+' + ' +'.join([word, instructor.replace(' ', ' +').lower()])\n",
    "            else:\n",
    "                keyword = word + ' ' + instructor.lower() \n",
    "            row = ['SEM_Instructors',  # campaign name\n",
    "                   instructor,  # ad group name\n",
    "                   keyword, # <keyword> instructor \n",
    "                   match]  # keyword match type\n",
    "            instructor_keywords.append(row)\n",
    "            \n",
    "\n",
    "instructor_keywords_df = pd.DataFrame.from_records(instructor_keywords, \n",
    "                                                   columns=col_names)\n",
    "print('total keywords:', instructor_keywords_df.shape[0])\n",
    "instructor_keywords_df.head()"
   ]
  },
  {
   "cell_type": "markdown",
   "metadata": {},
   "source": [
    "Basically, what are doing is looping over the instructor names, all the different keywords, and all the match types that we have, so that we have all possible combinations. We are doing it twice, once to have the template 'instructor name keyword' and 'keyword instructor name'. \n",
    "\n",
    "Now we simply repeat the same for all of our segments with minor modifications on keywords, and how we extract the data.    \n",
    "A good guideline I learned from [R for Data Science](http://r4ds.had.co.nz/functions.html) is that if you are going to copy and paste more than twice, it's time to write a function! "
   ]
  },
  {
   "cell_type": "code",
   "execution_count": 4,
   "metadata": {},
   "outputs": [],
   "source": [
    "def generate_keywords(topics, keywords, match_types=['Exact', 'Phrase', 'Broad'],\n",
    "                     campaign='SEM_Campaign'):\n",
    "    col_names = ['Campaign', 'Ad Group', 'Keyword', 'Criterion Type']\n",
    "    campaign_keywords = []\n",
    "    \n",
    "    for topic in topics:\n",
    "        for word in keywords:\n",
    "            for match in match_types:\n",
    "                if match == 'Broad':\n",
    "                    keyword = '+' + ' +'.join([topic.lower().replace(' ', ' +'), word.replace(' ', ' +')])\n",
    "                else:\n",
    "                    keyword = topic.lower() + ' ' + word\n",
    "                row = [campaign,  # campaign name\n",
    "                       topic,  # ad group name\n",
    "                       keyword, # instructor <keyword>\n",
    "                       match]  # keyword match type\n",
    "                campaign_keywords.append(row)\n",
    "\n",
    "    # I said more than twice! :)             \n",
    "    for topic in topics:\n",
    "        for word in keywords:\n",
    "            for match in match_types:\n",
    "                if match == 'Broad':\n",
    "                    keyword = '+' + ' +'.join([word.replace(' ', ' +'), topic.lower().replace(' ', ' +')])\n",
    "                else:\n",
    "                    keyword = word + ' ' + topic.lower()\n",
    "                row = [campaign,  # campaign name\n",
    "                       topic,  # ad group name\n",
    "                       keyword, # <keyword> instructor\n",
    "                       match]  # keyword match type\n",
    "                campaign_keywords.append(row)\n",
    "\n",
    "    return pd.DataFrame.from_records(campaign_keywords, columns=col_names)\n"
   ]
  },
  {
   "cell_type": "markdown",
   "metadata": {},
   "source": [
    "Let's give it a try:"
   ]
  },
  {
   "cell_type": "code",
   "execution_count": 5,
   "metadata": {},
   "outputs": [
    {
     "data": {
      "text/html": [
       "<div>\n",
       "<style scoped>\n",
       "    .dataframe tbody tr th:only-of-type {\n",
       "        vertical-align: middle;\n",
       "    }\n",
       "\n",
       "    .dataframe tbody tr th {\n",
       "        vertical-align: top;\n",
       "    }\n",
       "\n",
       "    .dataframe thead th {\n",
       "        text-align: right;\n",
       "    }\n",
       "</style>\n",
       "<table border=\"1\" class=\"dataframe\">\n",
       "  <thead>\n",
       "    <tr style=\"text-align: right;\">\n",
       "      <th></th>\n",
       "      <th>Campaign</th>\n",
       "      <th>Ad Group</th>\n",
       "      <th>Keyword</th>\n",
       "      <th>Criterion Type</th>\n",
       "    </tr>\n",
       "  </thead>\n",
       "  <tbody>\n",
       "    <tr>\n",
       "      <th>0</th>\n",
       "      <td>SEM_Campaign</td>\n",
       "      <td>Data Science</td>\n",
       "      <td>data science course</td>\n",
       "      <td>Exact</td>\n",
       "    </tr>\n",
       "    <tr>\n",
       "      <th>1</th>\n",
       "      <td>SEM_Campaign</td>\n",
       "      <td>Data Science</td>\n",
       "      <td>data science course</td>\n",
       "      <td>Phrase</td>\n",
       "    </tr>\n",
       "    <tr>\n",
       "      <th>2</th>\n",
       "      <td>SEM_Campaign</td>\n",
       "      <td>Data Science</td>\n",
       "      <td>+data +science +course</td>\n",
       "      <td>Broad</td>\n",
       "    </tr>\n",
       "    <tr>\n",
       "      <th>3</th>\n",
       "      <td>SEM_Campaign</td>\n",
       "      <td>Data Science</td>\n",
       "      <td>data science tutorial</td>\n",
       "      <td>Exact</td>\n",
       "    </tr>\n",
       "    <tr>\n",
       "      <th>4</th>\n",
       "      <td>SEM_Campaign</td>\n",
       "      <td>Data Science</td>\n",
       "      <td>data science tutorial</td>\n",
       "      <td>Phrase</td>\n",
       "    </tr>\n",
       "    <tr>\n",
       "      <th>5</th>\n",
       "      <td>SEM_Campaign</td>\n",
       "      <td>Data Science</td>\n",
       "      <td>+data +science +tutorial</td>\n",
       "      <td>Broad</td>\n",
       "    </tr>\n",
       "    <tr>\n",
       "      <th>6</th>\n",
       "      <td>SEM_Campaign</td>\n",
       "      <td>Machine Learning</td>\n",
       "      <td>machine learning course</td>\n",
       "      <td>Exact</td>\n",
       "    </tr>\n",
       "    <tr>\n",
       "      <th>7</th>\n",
       "      <td>SEM_Campaign</td>\n",
       "      <td>Machine Learning</td>\n",
       "      <td>machine learning course</td>\n",
       "      <td>Phrase</td>\n",
       "    </tr>\n",
       "    <tr>\n",
       "      <th>8</th>\n",
       "      <td>SEM_Campaign</td>\n",
       "      <td>Machine Learning</td>\n",
       "      <td>+machine +learning +course</td>\n",
       "      <td>Broad</td>\n",
       "    </tr>\n",
       "    <tr>\n",
       "      <th>9</th>\n",
       "      <td>SEM_Campaign</td>\n",
       "      <td>Machine Learning</td>\n",
       "      <td>machine learning tutorial</td>\n",
       "      <td>Exact</td>\n",
       "    </tr>\n",
       "  </tbody>\n",
       "</table>\n",
       "</div>"
      ],
      "text/plain": [
       "       Campaign          Ad Group                     Keyword Criterion Type\n",
       "0  SEM_Campaign      Data Science         data science course          Exact\n",
       "1  SEM_Campaign      Data Science         data science course         Phrase\n",
       "2  SEM_Campaign      Data Science      +data +science +course          Broad\n",
       "3  SEM_Campaign      Data Science       data science tutorial          Exact\n",
       "4  SEM_Campaign      Data Science       data science tutorial         Phrase\n",
       "5  SEM_Campaign      Data Science    +data +science +tutorial          Broad\n",
       "6  SEM_Campaign  Machine Learning     machine learning course          Exact\n",
       "7  SEM_Campaign  Machine Learning     machine learning course         Phrase\n",
       "8  SEM_Campaign  Machine Learning  +machine +learning +course          Broad\n",
       "9  SEM_Campaign  Machine Learning   machine learning tutorial          Exact"
      ]
     },
     "execution_count": 5,
     "metadata": {},
     "output_type": "execute_result"
    }
   ],
   "source": [
    "topics = ['Data Science', 'Machine Learning']\n",
    "keywords = ['course', 'tutorial']\n",
    "generate_keywords(topics, keywords).head(10)"
   ]
  },
  {
   "cell_type": "markdown",
   "metadata": {},
   "source": [
    "Looks good. Now we let's generate the relevant topics and keywords for each of our segments\n",
    "\n",
    "## 2. Technologies"
   ]
  },
  {
   "cell_type": "code",
   "execution_count": 6,
   "metadata": {},
   "outputs": [
    {
     "name": "stdout",
     "output_type": "stream",
     "text": [
      "total keywords: 750\n"
     ]
    },
    {
     "data": {
      "text/html": [
       "<div>\n",
       "<style scoped>\n",
       "    .dataframe tbody tr th:only-of-type {\n",
       "        vertical-align: middle;\n",
       "    }\n",
       "\n",
       "    .dataframe tbody tr th {\n",
       "        vertical-align: top;\n",
       "    }\n",
       "\n",
       "    .dataframe thead th {\n",
       "        text-align: right;\n",
       "    }\n",
       "</style>\n",
       "<table border=\"1\" class=\"dataframe\">\n",
       "  <thead>\n",
       "    <tr style=\"text-align: right;\">\n",
       "      <th></th>\n",
       "      <th>Campaign</th>\n",
       "      <th>Ad Group</th>\n",
       "      <th>Keyword</th>\n",
       "      <th>Criterion Type</th>\n",
       "    </tr>\n",
       "  </thead>\n",
       "  <tbody>\n",
       "    <tr>\n",
       "      <th>0</th>\n",
       "      <td>SEM_Technologies</td>\n",
       "      <td>R</td>\n",
       "      <td>r data science</td>\n",
       "      <td>Exact</td>\n",
       "    </tr>\n",
       "    <tr>\n",
       "      <th>1</th>\n",
       "      <td>SEM_Technologies</td>\n",
       "      <td>R</td>\n",
       "      <td>r data science</td>\n",
       "      <td>Phrase</td>\n",
       "    </tr>\n",
       "    <tr>\n",
       "      <th>2</th>\n",
       "      <td>SEM_Technologies</td>\n",
       "      <td>R</td>\n",
       "      <td>+r +data +science</td>\n",
       "      <td>Broad</td>\n",
       "    </tr>\n",
       "    <tr>\n",
       "      <th>3</th>\n",
       "      <td>SEM_Technologies</td>\n",
       "      <td>R</td>\n",
       "      <td>r programming</td>\n",
       "      <td>Exact</td>\n",
       "    </tr>\n",
       "    <tr>\n",
       "      <th>4</th>\n",
       "      <td>SEM_Technologies</td>\n",
       "      <td>R</td>\n",
       "      <td>r programming</td>\n",
       "      <td>Phrase</td>\n",
       "    </tr>\n",
       "  </tbody>\n",
       "</table>\n",
       "</div>"
      ],
      "text/plain": [
       "           Campaign Ad Group            Keyword Criterion Type\n",
       "0  SEM_Technologies        R     r data science          Exact\n",
       "1  SEM_Technologies        R     r data science         Phrase\n",
       "2  SEM_Technologies        R  +r +data +science          Broad\n",
       "3  SEM_Technologies        R      r programming          Exact\n",
       "4  SEM_Technologies        R      r programming         Phrase"
      ]
     },
     "execution_count": 6,
     "metadata": {},
     "output_type": "execute_result"
    }
   ],
   "source": [
    "topics = ['R', 'Python', 'SQL', 'Git', 'Shell']  # listed on the /courses page\n",
    "keywords = ['data science', 'programming', 'analytics', 'data analysis', 'machine learning',\n",
    "            'deep learning', 'financial analysis', 'data viz', 'visualization', 'data visualization',\n",
    "            'learn', 'course', 'courses', 'education', 'data import', 'data cleaning', \n",
    "            'data manipulation', 'probability', 'stats', 'statistics', 'course', 'courses',\n",
    "           'learn', 'education', 'tutorial']  # @marketing_team: this list can / should be refined or \n",
    "                                              # expanded based on the strategy and how specific the \n",
    "                                              # targeting needs to be\n",
    "tech_keywords = generate_keywords(topics, keywords, campaign='SEM_Technologies')\n",
    "print('total keywords:', tech_keywords.shape[0])\n",
    "tech_keywords.head()"
   ]
  },
  {
   "cell_type": "markdown",
   "metadata": {},
   "source": [
    "## 3. Courses\n",
    "\n",
    "This is probably the most specific, and therefore the most relevant of the segments to target people. If someone is searching for \"data visualization with r\" and we have that course, then the ad would be extremely relevant, because we would have the right landing page that exactly satisfies that user's need. \n",
    "\n",
    "One small problem. Some of the course names don't correspond to what a user would typically search for:\n",
    "'Machine Learning with the Experts: School Budgets', 'Sentiment Analysis in R: The Tidy Way'. These are NOT bad course names. They just need some attention as to selecting the proper keywords that people might use to search for them. \n",
    "\n",
    "Again, we can scrape the names and correspnding URLs as we did with the instructors' campaign. \n"
   ]
  },
  {
   "cell_type": "code",
   "execution_count": 7,
   "metadata": {},
   "outputs": [],
   "source": [
    "courses_page = 'https://www.datacamp.com/courses/all'\n",
    "course_link_selector = '.courses__explore-list .course-block'\n",
    "\n",
    "course_resp = requests.get(courses_page)\n",
    "soup = BeautifulSoup(course_resp.text, 'lxml')\n",
    "\n",
    "course_urls = [link.contents[1]['href'] for link in soup.select(course_link_selector)] \n",
    "course_urls = ['https://www.datacamp.com' + url for url in course_urls]\n",
    "course_names = [link.h4.text for link in soup.select(course_link_selector)]"
   ]
  },
  {
   "cell_type": "code",
   "execution_count": 8,
   "metadata": {},
   "outputs": [
    {
     "name": "stdout",
     "output_type": "stream",
     "text": [
      "total keywords: 95\n"
     ]
    },
    {
     "data": {
      "text/html": [
       "<div>\n",
       "<style scoped>\n",
       "    .dataframe tbody tr th:only-of-type {\n",
       "        vertical-align: middle;\n",
       "    }\n",
       "\n",
       "    .dataframe tbody tr th {\n",
       "        vertical-align: top;\n",
       "    }\n",
       "\n",
       "    .dataframe thead th {\n",
       "        text-align: right;\n",
       "    }\n",
       "</style>\n",
       "<table border=\"1\" class=\"dataframe\">\n",
       "  <thead>\n",
       "    <tr style=\"text-align: right;\">\n",
       "      <th></th>\n",
       "      <th>name</th>\n",
       "      <th>url</th>\n",
       "      <th>name_clean</th>\n",
       "    </tr>\n",
       "  </thead>\n",
       "  <tbody>\n",
       "    <tr>\n",
       "      <th>0</th>\n",
       "      <td>Intro to Python for Data Science</td>\n",
       "      <td>https://www.datacamp.com/courses/intro-to-pyth...</td>\n",
       "      <td>Intro to Python for Data Science</td>\n",
       "    </tr>\n",
       "    <tr>\n",
       "      <th>1</th>\n",
       "      <td>Introduction to R</td>\n",
       "      <td>https://www.datacamp.com/courses/free-introduc...</td>\n",
       "      <td>Introduction to R</td>\n",
       "    </tr>\n",
       "    <tr>\n",
       "      <th>2</th>\n",
       "      <td>Intermediate Python for Data Science</td>\n",
       "      <td>https://www.datacamp.com/courses/intermediate-...</td>\n",
       "      <td>Intermediate Python for Data Science</td>\n",
       "    </tr>\n",
       "    <tr>\n",
       "      <th>3</th>\n",
       "      <td>Intro to SQL for Data Science</td>\n",
       "      <td>https://www.datacamp.com/courses/intro-to-sql-...</td>\n",
       "      <td>Intro to SQL for Data Science</td>\n",
       "    </tr>\n",
       "    <tr>\n",
       "      <th>4</th>\n",
       "      <td>Intermediate R</td>\n",
       "      <td>https://www.datacamp.com/courses/intermediate-r</td>\n",
       "      <td>Intermediate R</td>\n",
       "    </tr>\n",
       "  </tbody>\n",
       "</table>\n",
       "</div>"
      ],
      "text/plain": [
       "                                   name                                                url                            name_clean\n",
       "0      Intro to Python for Data Science  https://www.datacamp.com/courses/intro-to-pyth...      Intro to Python for Data Science\n",
       "1                     Introduction to R  https://www.datacamp.com/courses/free-introduc...                     Introduction to R\n",
       "2  Intermediate Python for Data Science  https://www.datacamp.com/courses/intermediate-...  Intermediate Python for Data Science\n",
       "3         Intro to SQL for Data Science  https://www.datacamp.com/courses/intro-to-sql-...         Intro to SQL for Data Science\n",
       "4                        Intermediate R    https://www.datacamp.com/courses/intermediate-r                        Intermediate R"
      ]
     },
     "execution_count": 8,
     "metadata": {},
     "output_type": "execute_result"
    }
   ],
   "source": [
    "course_df = pd.DataFrame({\n",
    "    'name': course_names,\n",
    "    'url': course_urls\n",
    "})\n",
    "course_df['name_clean'] = course_df.name.str.replace('\\(.*\\)', '').str.strip()  # remove (part x)\n",
    "print('total keywords:', course_df.shape[0])\n",
    "course_df.head()"
   ]
  },
  {
   "cell_type": "markdown",
   "metadata": {},
   "source": [
    "We will do the same (use the `generate_keywords` function) for the courses, but we need to be careful, as they need to be reviewed because as mentioned above, some of the names are not really what people would look for, and we just need to account for that case-by-case. The following should be good enough for a start, and then we can see the data and make decisions.     \n",
    "Please note that using the empty character below is not a mistake. The names of course are long and specific enough that they are fit to be keywords in and of themselves, without having to add other qualifier keywords like 'learn' or 'course'. So we will be using the course names alone, as well as with the qualifier keywords. "
   ]
  },
  {
   "cell_type": "code",
   "execution_count": 9,
   "metadata": {},
   "outputs": [
    {
     "name": "stdout",
     "output_type": "stream",
     "text": [
      "total keywords: 3420\n"
     ]
    },
    {
     "data": {
      "text/html": [
       "<div>\n",
       "<style scoped>\n",
       "    .dataframe tbody tr th:only-of-type {\n",
       "        vertical-align: middle;\n",
       "    }\n",
       "\n",
       "    .dataframe tbody tr th {\n",
       "        vertical-align: top;\n",
       "    }\n",
       "\n",
       "    .dataframe thead th {\n",
       "        text-align: right;\n",
       "    }\n",
       "</style>\n",
       "<table border=\"1\" class=\"dataframe\">\n",
       "  <thead>\n",
       "    <tr style=\"text-align: right;\">\n",
       "      <th></th>\n",
       "      <th>Campaign</th>\n",
       "      <th>Ad Group</th>\n",
       "      <th>Keyword</th>\n",
       "      <th>Criterion Type</th>\n",
       "    </tr>\n",
       "  </thead>\n",
       "  <tbody>\n",
       "    <tr>\n",
       "      <th>0</th>\n",
       "      <td>SEM_Courses</td>\n",
       "      <td>Intro to Python for Data Science</td>\n",
       "      <td>intro to python for data science</td>\n",
       "      <td>Exact</td>\n",
       "    </tr>\n",
       "    <tr>\n",
       "      <th>1</th>\n",
       "      <td>SEM_Courses</td>\n",
       "      <td>Intro to Python for Data Science</td>\n",
       "      <td>intro to python for data science</td>\n",
       "      <td>Phrase</td>\n",
       "    </tr>\n",
       "    <tr>\n",
       "      <th>2</th>\n",
       "      <td>SEM_Courses</td>\n",
       "      <td>Intro to Python for Data Science</td>\n",
       "      <td>+intro +to +python +for +data +science +</td>\n",
       "      <td>Broad</td>\n",
       "    </tr>\n",
       "    <tr>\n",
       "      <th>3</th>\n",
       "      <td>SEM_Courses</td>\n",
       "      <td>Intro to Python for Data Science</td>\n",
       "      <td>intro to python for data science learn</td>\n",
       "      <td>Exact</td>\n",
       "    </tr>\n",
       "    <tr>\n",
       "      <th>4</th>\n",
       "      <td>SEM_Courses</td>\n",
       "      <td>Intro to Python for Data Science</td>\n",
       "      <td>intro to python for data science learn</td>\n",
       "      <td>Phrase</td>\n",
       "    </tr>\n",
       "    <tr>\n",
       "      <th>5</th>\n",
       "      <td>SEM_Courses</td>\n",
       "      <td>Intro to Python for Data Science</td>\n",
       "      <td>+intro +to +python +for +data +science +learn</td>\n",
       "      <td>Broad</td>\n",
       "    </tr>\n",
       "    <tr>\n",
       "      <th>6</th>\n",
       "      <td>SEM_Courses</td>\n",
       "      <td>Intro to Python for Data Science</td>\n",
       "      <td>intro to python for data science course</td>\n",
       "      <td>Exact</td>\n",
       "    </tr>\n",
       "    <tr>\n",
       "      <th>7</th>\n",
       "      <td>SEM_Courses</td>\n",
       "      <td>Intro to Python for Data Science</td>\n",
       "      <td>intro to python for data science course</td>\n",
       "      <td>Phrase</td>\n",
       "    </tr>\n",
       "    <tr>\n",
       "      <th>8</th>\n",
       "      <td>SEM_Courses</td>\n",
       "      <td>Intro to Python for Data Science</td>\n",
       "      <td>+intro +to +python +for +data +science +course</td>\n",
       "      <td>Broad</td>\n",
       "    </tr>\n",
       "    <tr>\n",
       "      <th>9</th>\n",
       "      <td>SEM_Courses</td>\n",
       "      <td>Intro to Python for Data Science</td>\n",
       "      <td>intro to python for data science courses</td>\n",
       "      <td>Exact</td>\n",
       "    </tr>\n",
       "  </tbody>\n",
       "</table>\n",
       "</div>"
      ],
      "text/plain": [
       "      Campaign                          Ad Group                                         Keyword Criterion Type\n",
       "0  SEM_Courses  Intro to Python for Data Science               intro to python for data science           Exact\n",
       "1  SEM_Courses  Intro to Python for Data Science               intro to python for data science          Phrase\n",
       "2  SEM_Courses  Intro to Python for Data Science        +intro +to +python +for +data +science +          Broad\n",
       "3  SEM_Courses  Intro to Python for Data Science          intro to python for data science learn          Exact\n",
       "4  SEM_Courses  Intro to Python for Data Science          intro to python for data science learn         Phrase\n",
       "5  SEM_Courses  Intro to Python for Data Science   +intro +to +python +for +data +science +learn          Broad\n",
       "6  SEM_Courses  Intro to Python for Data Science         intro to python for data science course          Exact\n",
       "7  SEM_Courses  Intro to Python for Data Science         intro to python for data science course         Phrase\n",
       "8  SEM_Courses  Intro to Python for Data Science  +intro +to +python +for +data +science +course          Broad\n",
       "9  SEM_Courses  Intro to Python for Data Science        intro to python for data science courses          Exact"
      ]
     },
     "execution_count": 9,
     "metadata": {},
     "output_type": "execute_result"
    }
   ],
   "source": [
    "keywords = ['', 'learn', 'course', 'courses', 'tutorial', 'education']\n",
    "course_keywords = generate_keywords(course_df['name_clean'], keywords, campaign='SEM_Courses')\n",
    "print('total keywords:', course_keywords.shape[0])\n",
    "course_keywords.head(10)"
   ]
  },
  {
   "cell_type": "markdown",
   "metadata": {},
   "source": [
    "## 4. Topics\n",
    "\n",
    "These are basically generic topics that people might be intersted in searching for. They are covered by the 'tracks' section, which has skills and career as sub-sections. For our purposed they can be grouped under the same campaign.   \n",
    "\n",
    "The process is again the same. "
   ]
  },
  {
   "cell_type": "markdown",
   "metadata": {},
   "source": [
    "#### Skills"
   ]
  },
  {
   "cell_type": "code",
   "execution_count": 10,
   "metadata": {},
   "outputs": [
    {
     "ename": "ConnectionError",
     "evalue": "('Connection aborted.', RemoteDisconnected('Remote end closed connection without response',))",
     "output_type": "error",
     "traceback": [
      "\u001b[0;31m---------------------------------------------------------------------------\u001b[0m",
      "\u001b[0;31mRemoteDisconnected\u001b[0m                        Traceback (most recent call last)",
      "\u001b[0;32m/anaconda/lib/python3.6/site-packages/urllib3/connectionpool.py\u001b[0m in \u001b[0;36murlopen\u001b[0;34m(self, method, url, body, headers, retries, redirect, assert_same_host, timeout, pool_timeout, release_conn, chunked, body_pos, **response_kw)\u001b[0m\n\u001b[1;32m    600\u001b[0m                                                   \u001b[0mbody\u001b[0m\u001b[0;34m=\u001b[0m\u001b[0mbody\u001b[0m\u001b[0;34m,\u001b[0m \u001b[0mheaders\u001b[0m\u001b[0;34m=\u001b[0m\u001b[0mheaders\u001b[0m\u001b[0;34m,\u001b[0m\u001b[0;34m\u001b[0m\u001b[0m\n\u001b[0;32m--> 601\u001b[0;31m                                                   chunked=chunked)\n\u001b[0m\u001b[1;32m    602\u001b[0m \u001b[0;34m\u001b[0m\u001b[0m\n",
      "\u001b[0;32m/anaconda/lib/python3.6/site-packages/urllib3/connectionpool.py\u001b[0m in \u001b[0;36m_make_request\u001b[0;34m(self, conn, method, url, timeout, chunked, **httplib_request_kw)\u001b[0m\n\u001b[1;32m    386\u001b[0m                     \u001b[0;31m# otherwise it looks like a programming error was the cause.\u001b[0m\u001b[0;34m\u001b[0m\u001b[0;34m\u001b[0m\u001b[0m\n\u001b[0;32m--> 387\u001b[0;31m                     \u001b[0msix\u001b[0m\u001b[0;34m.\u001b[0m\u001b[0mraise_from\u001b[0m\u001b[0;34m(\u001b[0m\u001b[0me\u001b[0m\u001b[0;34m,\u001b[0m \u001b[0;32mNone\u001b[0m\u001b[0;34m)\u001b[0m\u001b[0;34m\u001b[0m\u001b[0m\n\u001b[0m\u001b[1;32m    388\u001b[0m         \u001b[0;32mexcept\u001b[0m \u001b[0;34m(\u001b[0m\u001b[0mSocketTimeout\u001b[0m\u001b[0;34m,\u001b[0m \u001b[0mBaseSSLError\u001b[0m\u001b[0;34m,\u001b[0m \u001b[0mSocketError\u001b[0m\u001b[0;34m)\u001b[0m \u001b[0;32mas\u001b[0m \u001b[0me\u001b[0m\u001b[0;34m:\u001b[0m\u001b[0;34m\u001b[0m\u001b[0m\n",
      "\u001b[0;32m/anaconda/lib/python3.6/site-packages/urllib3/packages/six.py\u001b[0m in \u001b[0;36mraise_from\u001b[0;34m(value, from_value)\u001b[0m\n",
      "\u001b[0;32m/anaconda/lib/python3.6/site-packages/urllib3/connectionpool.py\u001b[0m in \u001b[0;36m_make_request\u001b[0;34m(self, conn, method, url, timeout, chunked, **httplib_request_kw)\u001b[0m\n\u001b[1;32m    382\u001b[0m                 \u001b[0;32mtry\u001b[0m\u001b[0;34m:\u001b[0m\u001b[0;34m\u001b[0m\u001b[0m\n\u001b[0;32m--> 383\u001b[0;31m                     \u001b[0mhttplib_response\u001b[0m \u001b[0;34m=\u001b[0m \u001b[0mconn\u001b[0m\u001b[0;34m.\u001b[0m\u001b[0mgetresponse\u001b[0m\u001b[0;34m(\u001b[0m\u001b[0;34m)\u001b[0m\u001b[0;34m\u001b[0m\u001b[0m\n\u001b[0m\u001b[1;32m    384\u001b[0m                 \u001b[0;32mexcept\u001b[0m \u001b[0mException\u001b[0m \u001b[0;32mas\u001b[0m \u001b[0me\u001b[0m\u001b[0;34m:\u001b[0m\u001b[0;34m\u001b[0m\u001b[0m\n",
      "\u001b[0;32m/anaconda/lib/python3.6/http/client.py\u001b[0m in \u001b[0;36mgetresponse\u001b[0;34m(self)\u001b[0m\n\u001b[1;32m   1330\u001b[0m             \u001b[0;32mtry\u001b[0m\u001b[0;34m:\u001b[0m\u001b[0;34m\u001b[0m\u001b[0m\n\u001b[0;32m-> 1331\u001b[0;31m                 \u001b[0mresponse\u001b[0m\u001b[0;34m.\u001b[0m\u001b[0mbegin\u001b[0m\u001b[0;34m(\u001b[0m\u001b[0;34m)\u001b[0m\u001b[0;34m\u001b[0m\u001b[0m\n\u001b[0m\u001b[1;32m   1332\u001b[0m             \u001b[0;32mexcept\u001b[0m \u001b[0mConnectionError\u001b[0m\u001b[0;34m:\u001b[0m\u001b[0;34m\u001b[0m\u001b[0m\n",
      "\u001b[0;32m/anaconda/lib/python3.6/http/client.py\u001b[0m in \u001b[0;36mbegin\u001b[0;34m(self)\u001b[0m\n\u001b[1;32m    296\u001b[0m         \u001b[0;32mwhile\u001b[0m \u001b[0;32mTrue\u001b[0m\u001b[0;34m:\u001b[0m\u001b[0;34m\u001b[0m\u001b[0m\n\u001b[0;32m--> 297\u001b[0;31m             \u001b[0mversion\u001b[0m\u001b[0;34m,\u001b[0m \u001b[0mstatus\u001b[0m\u001b[0;34m,\u001b[0m \u001b[0mreason\u001b[0m \u001b[0;34m=\u001b[0m \u001b[0mself\u001b[0m\u001b[0;34m.\u001b[0m\u001b[0m_read_status\u001b[0m\u001b[0;34m(\u001b[0m\u001b[0;34m)\u001b[0m\u001b[0;34m\u001b[0m\u001b[0m\n\u001b[0m\u001b[1;32m    298\u001b[0m             \u001b[0;32mif\u001b[0m \u001b[0mstatus\u001b[0m \u001b[0;34m!=\u001b[0m \u001b[0mCONTINUE\u001b[0m\u001b[0;34m:\u001b[0m\u001b[0;34m\u001b[0m\u001b[0m\n",
      "\u001b[0;32m/anaconda/lib/python3.6/http/client.py\u001b[0m in \u001b[0;36m_read_status\u001b[0;34m(self)\u001b[0m\n\u001b[1;32m    265\u001b[0m             \u001b[0;31m# sending a valid response.\u001b[0m\u001b[0;34m\u001b[0m\u001b[0;34m\u001b[0m\u001b[0m\n\u001b[0;32m--> 266\u001b[0;31m             raise RemoteDisconnected(\"Remote end closed connection without\"\n\u001b[0m\u001b[1;32m    267\u001b[0m                                      \" response\")\n",
      "\u001b[0;31mRemoteDisconnected\u001b[0m: Remote end closed connection without response",
      "\nDuring handling of the above exception, another exception occurred:\n",
      "\u001b[0;31mProtocolError\u001b[0m                             Traceback (most recent call last)",
      "\u001b[0;32m~/.local/lib/python3.6/site-packages/requests/adapters.py\u001b[0m in \u001b[0;36msend\u001b[0;34m(self, request, stream, timeout, verify, cert, proxies)\u001b[0m\n\u001b[1;32m    439\u001b[0m                     \u001b[0mretries\u001b[0m\u001b[0;34m=\u001b[0m\u001b[0mself\u001b[0m\u001b[0;34m.\u001b[0m\u001b[0mmax_retries\u001b[0m\u001b[0;34m,\u001b[0m\u001b[0;34m\u001b[0m\u001b[0m\n\u001b[0;32m--> 440\u001b[0;31m                     \u001b[0mtimeout\u001b[0m\u001b[0;34m=\u001b[0m\u001b[0mtimeout\u001b[0m\u001b[0;34m\u001b[0m\u001b[0m\n\u001b[0m\u001b[1;32m    441\u001b[0m                 )\n",
      "\u001b[0;32m/anaconda/lib/python3.6/site-packages/urllib3/connectionpool.py\u001b[0m in \u001b[0;36murlopen\u001b[0;34m(self, method, url, body, headers, retries, redirect, assert_same_host, timeout, pool_timeout, release_conn, chunked, body_pos, **response_kw)\u001b[0m\n\u001b[1;32m    638\u001b[0m             retries = retries.increment(method, url, error=e, _pool=self,\n\u001b[0;32m--> 639\u001b[0;31m                                         _stacktrace=sys.exc_info()[2])\n\u001b[0m\u001b[1;32m    640\u001b[0m             \u001b[0mretries\u001b[0m\u001b[0;34m.\u001b[0m\u001b[0msleep\u001b[0m\u001b[0;34m(\u001b[0m\u001b[0;34m)\u001b[0m\u001b[0;34m\u001b[0m\u001b[0m\n",
      "\u001b[0;32m/anaconda/lib/python3.6/site-packages/urllib3/util/retry.py\u001b[0m in \u001b[0;36mincrement\u001b[0;34m(self, method, url, response, error, _pool, _stacktrace)\u001b[0m\n\u001b[1;32m    356\u001b[0m             \u001b[0;32mif\u001b[0m \u001b[0mread\u001b[0m \u001b[0;32mis\u001b[0m \u001b[0;32mFalse\u001b[0m \u001b[0;32mor\u001b[0m \u001b[0;32mnot\u001b[0m \u001b[0mself\u001b[0m\u001b[0;34m.\u001b[0m\u001b[0m_is_method_retryable\u001b[0m\u001b[0;34m(\u001b[0m\u001b[0mmethod\u001b[0m\u001b[0;34m)\u001b[0m\u001b[0;34m:\u001b[0m\u001b[0;34m\u001b[0m\u001b[0m\n\u001b[0;32m--> 357\u001b[0;31m                 \u001b[0;32mraise\u001b[0m \u001b[0msix\u001b[0m\u001b[0;34m.\u001b[0m\u001b[0mreraise\u001b[0m\u001b[0;34m(\u001b[0m\u001b[0mtype\u001b[0m\u001b[0;34m(\u001b[0m\u001b[0merror\u001b[0m\u001b[0;34m)\u001b[0m\u001b[0;34m,\u001b[0m \u001b[0merror\u001b[0m\u001b[0;34m,\u001b[0m \u001b[0m_stacktrace\u001b[0m\u001b[0;34m)\u001b[0m\u001b[0;34m\u001b[0m\u001b[0m\n\u001b[0m\u001b[1;32m    358\u001b[0m             \u001b[0;32melif\u001b[0m \u001b[0mread\u001b[0m \u001b[0;32mis\u001b[0m \u001b[0;32mnot\u001b[0m \u001b[0;32mNone\u001b[0m\u001b[0;34m:\u001b[0m\u001b[0;34m\u001b[0m\u001b[0m\n",
      "\u001b[0;32m/anaconda/lib/python3.6/site-packages/urllib3/packages/six.py\u001b[0m in \u001b[0;36mreraise\u001b[0;34m(tp, value, tb)\u001b[0m\n\u001b[1;32m    684\u001b[0m         \u001b[0;32mif\u001b[0m \u001b[0mvalue\u001b[0m\u001b[0;34m.\u001b[0m\u001b[0m__traceback__\u001b[0m \u001b[0;32mis\u001b[0m \u001b[0;32mnot\u001b[0m \u001b[0mtb\u001b[0m\u001b[0;34m:\u001b[0m\u001b[0;34m\u001b[0m\u001b[0m\n\u001b[0;32m--> 685\u001b[0;31m             \u001b[0;32mraise\u001b[0m \u001b[0mvalue\u001b[0m\u001b[0;34m.\u001b[0m\u001b[0mwith_traceback\u001b[0m\u001b[0;34m(\u001b[0m\u001b[0mtb\u001b[0m\u001b[0;34m)\u001b[0m\u001b[0;34m\u001b[0m\u001b[0m\n\u001b[0m\u001b[1;32m    686\u001b[0m         \u001b[0;32mraise\u001b[0m \u001b[0mvalue\u001b[0m\u001b[0;34m\u001b[0m\u001b[0m\n",
      "\u001b[0;32m/anaconda/lib/python3.6/site-packages/urllib3/connectionpool.py\u001b[0m in \u001b[0;36murlopen\u001b[0;34m(self, method, url, body, headers, retries, redirect, assert_same_host, timeout, pool_timeout, release_conn, chunked, body_pos, **response_kw)\u001b[0m\n\u001b[1;32m    600\u001b[0m                                                   \u001b[0mbody\u001b[0m\u001b[0;34m=\u001b[0m\u001b[0mbody\u001b[0m\u001b[0;34m,\u001b[0m \u001b[0mheaders\u001b[0m\u001b[0;34m=\u001b[0m\u001b[0mheaders\u001b[0m\u001b[0;34m,\u001b[0m\u001b[0;34m\u001b[0m\u001b[0m\n\u001b[0;32m--> 601\u001b[0;31m                                                   chunked=chunked)\n\u001b[0m\u001b[1;32m    602\u001b[0m \u001b[0;34m\u001b[0m\u001b[0m\n",
      "\u001b[0;32m/anaconda/lib/python3.6/site-packages/urllib3/connectionpool.py\u001b[0m in \u001b[0;36m_make_request\u001b[0;34m(self, conn, method, url, timeout, chunked, **httplib_request_kw)\u001b[0m\n\u001b[1;32m    386\u001b[0m                     \u001b[0;31m# otherwise it looks like a programming error was the cause.\u001b[0m\u001b[0;34m\u001b[0m\u001b[0;34m\u001b[0m\u001b[0m\n\u001b[0;32m--> 387\u001b[0;31m                     \u001b[0msix\u001b[0m\u001b[0;34m.\u001b[0m\u001b[0mraise_from\u001b[0m\u001b[0;34m(\u001b[0m\u001b[0me\u001b[0m\u001b[0;34m,\u001b[0m \u001b[0;32mNone\u001b[0m\u001b[0;34m)\u001b[0m\u001b[0;34m\u001b[0m\u001b[0m\n\u001b[0m\u001b[1;32m    388\u001b[0m         \u001b[0;32mexcept\u001b[0m \u001b[0;34m(\u001b[0m\u001b[0mSocketTimeout\u001b[0m\u001b[0;34m,\u001b[0m \u001b[0mBaseSSLError\u001b[0m\u001b[0;34m,\u001b[0m \u001b[0mSocketError\u001b[0m\u001b[0;34m)\u001b[0m \u001b[0;32mas\u001b[0m \u001b[0me\u001b[0m\u001b[0;34m:\u001b[0m\u001b[0;34m\u001b[0m\u001b[0m\n",
      "\u001b[0;32m/anaconda/lib/python3.6/site-packages/urllib3/packages/six.py\u001b[0m in \u001b[0;36mraise_from\u001b[0;34m(value, from_value)\u001b[0m\n",
      "\u001b[0;32m/anaconda/lib/python3.6/site-packages/urllib3/connectionpool.py\u001b[0m in \u001b[0;36m_make_request\u001b[0;34m(self, conn, method, url, timeout, chunked, **httplib_request_kw)\u001b[0m\n\u001b[1;32m    382\u001b[0m                 \u001b[0;32mtry\u001b[0m\u001b[0;34m:\u001b[0m\u001b[0;34m\u001b[0m\u001b[0m\n\u001b[0;32m--> 383\u001b[0;31m                     \u001b[0mhttplib_response\u001b[0m \u001b[0;34m=\u001b[0m \u001b[0mconn\u001b[0m\u001b[0;34m.\u001b[0m\u001b[0mgetresponse\u001b[0m\u001b[0;34m(\u001b[0m\u001b[0;34m)\u001b[0m\u001b[0;34m\u001b[0m\u001b[0m\n\u001b[0m\u001b[1;32m    384\u001b[0m                 \u001b[0;32mexcept\u001b[0m \u001b[0mException\u001b[0m \u001b[0;32mas\u001b[0m \u001b[0me\u001b[0m\u001b[0;34m:\u001b[0m\u001b[0;34m\u001b[0m\u001b[0m\n",
      "\u001b[0;32m/anaconda/lib/python3.6/http/client.py\u001b[0m in \u001b[0;36mgetresponse\u001b[0;34m(self)\u001b[0m\n\u001b[1;32m   1330\u001b[0m             \u001b[0;32mtry\u001b[0m\u001b[0;34m:\u001b[0m\u001b[0;34m\u001b[0m\u001b[0m\n\u001b[0;32m-> 1331\u001b[0;31m                 \u001b[0mresponse\u001b[0m\u001b[0;34m.\u001b[0m\u001b[0mbegin\u001b[0m\u001b[0;34m(\u001b[0m\u001b[0;34m)\u001b[0m\u001b[0;34m\u001b[0m\u001b[0m\n\u001b[0m\u001b[1;32m   1332\u001b[0m             \u001b[0;32mexcept\u001b[0m \u001b[0mConnectionError\u001b[0m\u001b[0;34m:\u001b[0m\u001b[0;34m\u001b[0m\u001b[0m\n",
      "\u001b[0;32m/anaconda/lib/python3.6/http/client.py\u001b[0m in \u001b[0;36mbegin\u001b[0;34m(self)\u001b[0m\n\u001b[1;32m    296\u001b[0m         \u001b[0;32mwhile\u001b[0m \u001b[0;32mTrue\u001b[0m\u001b[0;34m:\u001b[0m\u001b[0;34m\u001b[0m\u001b[0m\n\u001b[0;32m--> 297\u001b[0;31m             \u001b[0mversion\u001b[0m\u001b[0;34m,\u001b[0m \u001b[0mstatus\u001b[0m\u001b[0;34m,\u001b[0m \u001b[0mreason\u001b[0m \u001b[0;34m=\u001b[0m \u001b[0mself\u001b[0m\u001b[0;34m.\u001b[0m\u001b[0m_read_status\u001b[0m\u001b[0;34m(\u001b[0m\u001b[0;34m)\u001b[0m\u001b[0;34m\u001b[0m\u001b[0m\n\u001b[0m\u001b[1;32m    298\u001b[0m             \u001b[0;32mif\u001b[0m \u001b[0mstatus\u001b[0m \u001b[0;34m!=\u001b[0m \u001b[0mCONTINUE\u001b[0m\u001b[0;34m:\u001b[0m\u001b[0;34m\u001b[0m\u001b[0m\n",
      "\u001b[0;32m/anaconda/lib/python3.6/http/client.py\u001b[0m in \u001b[0;36m_read_status\u001b[0;34m(self)\u001b[0m\n\u001b[1;32m    265\u001b[0m             \u001b[0;31m# sending a valid response.\u001b[0m\u001b[0;34m\u001b[0m\u001b[0;34m\u001b[0m\u001b[0m\n\u001b[0;32m--> 266\u001b[0;31m             raise RemoteDisconnected(\"Remote end closed connection without\"\n\u001b[0m\u001b[1;32m    267\u001b[0m                                      \" response\")\n",
      "\u001b[0;31mProtocolError\u001b[0m: ('Connection aborted.', RemoteDisconnected('Remote end closed connection without response',))",
      "\nDuring handling of the above exception, another exception occurred:\n",
      "\u001b[0;31mConnectionError\u001b[0m                           Traceback (most recent call last)",
      "\u001b[0;32m<ipython-input-10-c7bae2f84260>\u001b[0m in \u001b[0;36m<module>\u001b[0;34m()\u001b[0m\n\u001b[1;32m      2\u001b[0m \u001b[0mskills_link_selector\u001b[0m \u001b[0;34m=\u001b[0m \u001b[0;34m'#all .shim'\u001b[0m\u001b[0;34m\u001b[0m\u001b[0m\n\u001b[1;32m      3\u001b[0m \u001b[0;34m\u001b[0m\u001b[0m\n\u001b[0;32m----> 4\u001b[0;31m \u001b[0mskills_resp\u001b[0m \u001b[0;34m=\u001b[0m \u001b[0mrequests\u001b[0m\u001b[0;34m.\u001b[0m\u001b[0mget\u001b[0m\u001b[0;34m(\u001b[0m\u001b[0mskills_page\u001b[0m\u001b[0;34m)\u001b[0m\u001b[0;34m\u001b[0m\u001b[0m\n\u001b[0m\u001b[1;32m      5\u001b[0m \u001b[0mskill_soup\u001b[0m \u001b[0;34m=\u001b[0m \u001b[0mBeautifulSoup\u001b[0m\u001b[0;34m(\u001b[0m\u001b[0mskills_resp\u001b[0m\u001b[0;34m.\u001b[0m\u001b[0mtext\u001b[0m\u001b[0;34m,\u001b[0m \u001b[0;34m'lxml'\u001b[0m\u001b[0;34m)\u001b[0m\u001b[0;34m\u001b[0m\u001b[0m\n\u001b[1;32m      6\u001b[0m \u001b[0;34m\u001b[0m\u001b[0m\n",
      "\u001b[0;32m~/.local/lib/python3.6/site-packages/requests/api.py\u001b[0m in \u001b[0;36mget\u001b[0;34m(url, params, **kwargs)\u001b[0m\n\u001b[1;32m     70\u001b[0m \u001b[0;34m\u001b[0m\u001b[0m\n\u001b[1;32m     71\u001b[0m     \u001b[0mkwargs\u001b[0m\u001b[0;34m.\u001b[0m\u001b[0msetdefault\u001b[0m\u001b[0;34m(\u001b[0m\u001b[0;34m'allow_redirects'\u001b[0m\u001b[0;34m,\u001b[0m \u001b[0;32mTrue\u001b[0m\u001b[0;34m)\u001b[0m\u001b[0;34m\u001b[0m\u001b[0m\n\u001b[0;32m---> 72\u001b[0;31m     \u001b[0;32mreturn\u001b[0m \u001b[0mrequest\u001b[0m\u001b[0;34m(\u001b[0m\u001b[0;34m'get'\u001b[0m\u001b[0;34m,\u001b[0m \u001b[0murl\u001b[0m\u001b[0;34m,\u001b[0m \u001b[0mparams\u001b[0m\u001b[0;34m=\u001b[0m\u001b[0mparams\u001b[0m\u001b[0;34m,\u001b[0m \u001b[0;34m**\u001b[0m\u001b[0mkwargs\u001b[0m\u001b[0;34m)\u001b[0m\u001b[0;34m\u001b[0m\u001b[0m\n\u001b[0m\u001b[1;32m     73\u001b[0m \u001b[0;34m\u001b[0m\u001b[0m\n\u001b[1;32m     74\u001b[0m \u001b[0;34m\u001b[0m\u001b[0m\n",
      "\u001b[0;32m~/.local/lib/python3.6/site-packages/requests/api.py\u001b[0m in \u001b[0;36mrequest\u001b[0;34m(method, url, **kwargs)\u001b[0m\n\u001b[1;32m     56\u001b[0m     \u001b[0;31m# cases, and look like a memory leak in others.\u001b[0m\u001b[0;34m\u001b[0m\u001b[0;34m\u001b[0m\u001b[0m\n\u001b[1;32m     57\u001b[0m     \u001b[0;32mwith\u001b[0m \u001b[0msessions\u001b[0m\u001b[0;34m.\u001b[0m\u001b[0mSession\u001b[0m\u001b[0;34m(\u001b[0m\u001b[0;34m)\u001b[0m \u001b[0;32mas\u001b[0m \u001b[0msession\u001b[0m\u001b[0;34m:\u001b[0m\u001b[0;34m\u001b[0m\u001b[0m\n\u001b[0;32m---> 58\u001b[0;31m         \u001b[0;32mreturn\u001b[0m \u001b[0msession\u001b[0m\u001b[0;34m.\u001b[0m\u001b[0mrequest\u001b[0m\u001b[0;34m(\u001b[0m\u001b[0mmethod\u001b[0m\u001b[0;34m=\u001b[0m\u001b[0mmethod\u001b[0m\u001b[0;34m,\u001b[0m \u001b[0murl\u001b[0m\u001b[0;34m=\u001b[0m\u001b[0murl\u001b[0m\u001b[0;34m,\u001b[0m \u001b[0;34m**\u001b[0m\u001b[0mkwargs\u001b[0m\u001b[0;34m)\u001b[0m\u001b[0;34m\u001b[0m\u001b[0m\n\u001b[0m\u001b[1;32m     59\u001b[0m \u001b[0;34m\u001b[0m\u001b[0m\n\u001b[1;32m     60\u001b[0m \u001b[0;34m\u001b[0m\u001b[0m\n",
      "\u001b[0;32m~/.local/lib/python3.6/site-packages/requests/sessions.py\u001b[0m in \u001b[0;36mrequest\u001b[0;34m(self, method, url, params, data, headers, cookies, files, auth, timeout, allow_redirects, proxies, hooks, stream, verify, cert, json)\u001b[0m\n\u001b[1;32m    506\u001b[0m         }\n\u001b[1;32m    507\u001b[0m         \u001b[0msend_kwargs\u001b[0m\u001b[0;34m.\u001b[0m\u001b[0mupdate\u001b[0m\u001b[0;34m(\u001b[0m\u001b[0msettings\u001b[0m\u001b[0;34m)\u001b[0m\u001b[0;34m\u001b[0m\u001b[0m\n\u001b[0;32m--> 508\u001b[0;31m         \u001b[0mresp\u001b[0m \u001b[0;34m=\u001b[0m \u001b[0mself\u001b[0m\u001b[0;34m.\u001b[0m\u001b[0msend\u001b[0m\u001b[0;34m(\u001b[0m\u001b[0mprep\u001b[0m\u001b[0;34m,\u001b[0m \u001b[0;34m**\u001b[0m\u001b[0msend_kwargs\u001b[0m\u001b[0;34m)\u001b[0m\u001b[0;34m\u001b[0m\u001b[0m\n\u001b[0m\u001b[1;32m    509\u001b[0m \u001b[0;34m\u001b[0m\u001b[0m\n\u001b[1;32m    510\u001b[0m         \u001b[0;32mreturn\u001b[0m \u001b[0mresp\u001b[0m\u001b[0;34m\u001b[0m\u001b[0m\n",
      "\u001b[0;32m~/.local/lib/python3.6/site-packages/requests/sessions.py\u001b[0m in \u001b[0;36msend\u001b[0;34m(self, request, **kwargs)\u001b[0m\n\u001b[1;32m    616\u001b[0m \u001b[0;34m\u001b[0m\u001b[0m\n\u001b[1;32m    617\u001b[0m         \u001b[0;31m# Send the request\u001b[0m\u001b[0;34m\u001b[0m\u001b[0;34m\u001b[0m\u001b[0m\n\u001b[0;32m--> 618\u001b[0;31m         \u001b[0mr\u001b[0m \u001b[0;34m=\u001b[0m \u001b[0madapter\u001b[0m\u001b[0;34m.\u001b[0m\u001b[0msend\u001b[0m\u001b[0;34m(\u001b[0m\u001b[0mrequest\u001b[0m\u001b[0;34m,\u001b[0m \u001b[0;34m**\u001b[0m\u001b[0mkwargs\u001b[0m\u001b[0;34m)\u001b[0m\u001b[0;34m\u001b[0m\u001b[0m\n\u001b[0m\u001b[1;32m    619\u001b[0m \u001b[0;34m\u001b[0m\u001b[0m\n\u001b[1;32m    620\u001b[0m         \u001b[0;31m# Total elapsed time of the request (approximately)\u001b[0m\u001b[0;34m\u001b[0m\u001b[0;34m\u001b[0m\u001b[0m\n",
      "\u001b[0;32m~/.local/lib/python3.6/site-packages/requests/adapters.py\u001b[0m in \u001b[0;36msend\u001b[0;34m(self, request, stream, timeout, verify, cert, proxies)\u001b[0m\n\u001b[1;32m    488\u001b[0m \u001b[0;34m\u001b[0m\u001b[0m\n\u001b[1;32m    489\u001b[0m         \u001b[0;32mexcept\u001b[0m \u001b[0;34m(\u001b[0m\u001b[0mProtocolError\u001b[0m\u001b[0;34m,\u001b[0m \u001b[0msocket\u001b[0m\u001b[0;34m.\u001b[0m\u001b[0merror\u001b[0m\u001b[0;34m)\u001b[0m \u001b[0;32mas\u001b[0m \u001b[0merr\u001b[0m\u001b[0;34m:\u001b[0m\u001b[0;34m\u001b[0m\u001b[0m\n\u001b[0;32m--> 490\u001b[0;31m             \u001b[0;32mraise\u001b[0m \u001b[0mConnectionError\u001b[0m\u001b[0;34m(\u001b[0m\u001b[0merr\u001b[0m\u001b[0;34m,\u001b[0m \u001b[0mrequest\u001b[0m\u001b[0;34m=\u001b[0m\u001b[0mrequest\u001b[0m\u001b[0;34m)\u001b[0m\u001b[0;34m\u001b[0m\u001b[0m\n\u001b[0m\u001b[1;32m    491\u001b[0m \u001b[0;34m\u001b[0m\u001b[0m\n\u001b[1;32m    492\u001b[0m         \u001b[0;32mexcept\u001b[0m \u001b[0mMaxRetryError\u001b[0m \u001b[0;32mas\u001b[0m \u001b[0me\u001b[0m\u001b[0;34m:\u001b[0m\u001b[0;34m\u001b[0m\u001b[0m\n",
      "\u001b[0;31mConnectionError\u001b[0m: ('Connection aborted.', RemoteDisconnected('Remote end closed connection without response',))"
     ]
    }
   ],
   "source": [
    "skills_page = 'https://www.datacamp.com/tracks/skill'\n",
    "skills_link_selector = '#all .shim'\n",
    "\n",
    "skills_resp = requests.get(skills_page)\n",
    "skill_soup = BeautifulSoup(skills_resp.text, 'lxml')\n",
    "\n",
    "skills_urls = [link['href'] for link in skill_soup.select(skills_link_selector)] \n",
    "skills_names = [skill.replace('/tracks/', '').replace('-', ' ') for skill in skills_urls]\n",
    "skills_urls = ['https://www.datacamp.com' + url for url in skills_urls]"
   ]
  },
  {
   "cell_type": "markdown",
   "metadata": {},
   "source": [
    "#### Careers"
   ]
  },
  {
   "cell_type": "code",
   "execution_count": null,
   "metadata": {},
   "outputs": [],
   "source": [
    "career_page = 'https://www.datacamp.com/tracks/career'\n",
    "career_link_selector = '#all .shim'\n",
    "\n",
    "career_resp = requests.get(career_page)\n",
    "career_soup = BeautifulSoup(career_resp.text, 'lxml')\n",
    "\n",
    "career_urls = [link['href'] for link in career_soup.select(career_link_selector)] \n",
    "\n",
    "career_names = [career.replace('/tracks/', '').replace('-', ' ') for career in career_urls]\n",
    "career_urls = ['https://www.datacamp.com' + url for url in career_urls]"
   ]
  },
  {
   "cell_type": "code",
   "execution_count": null,
   "metadata": {},
   "outputs": [],
   "source": [
    "tracks_df = pd.DataFrame({\n",
    "    'name': skills_names + career_names,\n",
    "    'url': skills_urls + career_urls\n",
    "})\n",
    "tracks_df['name'] = [x.title() for x in tracks_df['name']]\n",
    "tracks_df.head()"
   ]
  },
  {
   "cell_type": "code",
   "execution_count": null,
   "metadata": {},
   "outputs": [],
   "source": [
    "tracks_keywords = generate_keywords(tracks_df['name'], keywords, campaign='SEM_Tracks')\n",
    "print('total keywords:', tracks_keywords.shape[0])\n",
    "tracks_keywords.head()"
   ]
  },
  {
   "cell_type": "markdown",
   "metadata": {},
   "source": [
    "Finally, we concatenate all the data frames that we created so far in one data frame."
   ]
  },
  {
   "cell_type": "code",
   "execution_count": null,
   "metadata": {},
   "outputs": [],
   "source": [
    "full_keywords_df = pd.concat([instructor_keywords_df, tech_keywords, course_keywords, tracks_keywords])\n",
    "print('total keywords:', full_keywords_df.shape[0])\n",
    "print('total campaigns:', len(set(full_keywords_df['Campaign'])))\n",
    "print('total ad groups:', len(set(full_keywords_df['Ad Group'])))\n",
    "full_keywords_df.to_csv('keywords.csv', index=False)\n",
    "full_keywords_df.head()"
   ]
  },
  {
   "cell_type": "markdown",
   "metadata": {},
   "source": [
    "Now we are ready to go with our keywords, and the full set can be found [here](keywords.csv). Next we need to generate ads for each of our ad groups. "
   ]
  },
  {
   "cell_type": "markdown",
   "metadata": {},
   "source": [
    "Let's generate the ads."
   ]
  },
  {
   "cell_type": "markdown",
   "metadata": {},
   "source": [
    "## Ad Generation / Copy Writing"
   ]
  },
  {
   "cell_type": "markdown",
   "metadata": {},
   "source": [
    "### Strategy\n",
    "\n",
    "We currently have the following: \n",
    "1. Campaigns and ad group names properly mapped to each other in the `full_keywords_df` data frame\n",
    "2. Ad group name and the corresponding URL from our previous scraping (courses, instructors, and tracks), and we need to generate one for technologies. \n",
    "\n",
    "Here is the plan: \n",
    "\n",
    "1. Create ad templates to use (2-3 should be good to start with)\n",
    "4. Create a `Campaign` column and add it to the (name, url) data frames\n",
    "2. Merge all the (name, url) data frames into one data frame\n",
    "3. Generate all ads for all ad groups; this consists of the following fields for each ad (these would be new columns in the same data frame we are working with): \n",
    "    * Headline 1: maximum 30 charaters\n",
    "    * Headline 2: maximum 30 charaters\n",
    "    * Display URL: automatically inferred from the final URL\n",
    "    * Final URL: the full path where the user will end up (has to be the same domain as the display URL \n",
    "\n",
    "5. Make sure the work is consistent with the keywords data frame\n",
    "6. Upload and launch campaigns! \n",
    "\n",
    "Generating ads simply means replacing the topics name (course, tech, instructor, etc) where it belongs in the template, and making 2-3 ad variations for each of the ad groups that we have. \n"
   ]
  },
  {
   "cell_type": "code",
   "execution_count": null,
   "metadata": {},
   "outputs": [],
   "source": [
    "%%html\n",
    "<img src=\"text_ad_diagram.png\" width=670>"
   ]
  },
  {
   "cell_type": "markdown",
   "metadata": {},
   "source": [
    "### Ad Templates\n",
    "\n",
    "An important thing to take note of, is that although plugging in the ad group names where they belong is a straighforward process, the problem is that we need to have the length of the fields under the limits mentioned above. And since the names of our courses and topics vary a lot, we need to see what can be done about it. Let's see how much of a problem that is. "
   ]
  },
  {
   "cell_type": "code",
   "execution_count": null,
   "metadata": {},
   "outputs": [],
   "source": [
    "%matplotlib inline\n",
    "import matplotlib.pyplot as plt\n",
    "adgroup_lengths = pd.Series([len(adgrp) for adgrp in full_keywords_df['Ad Group'].unique()])\n",
    "long_adgroups = sum(adgroup_lengths > 30)\n",
    "plt.figure(figsize=(9,6))\n",
    "plt.hist(adgroup_lengths, rwidth=0.9, bins=50)\n",
    "plt.vlines(x=30, ymin=0, ymax=10, colors='red')\n",
    "plt.title(str(long_adgroups) + ' ad group name lenghts > 30 (don\\'t fit in a headline)',  fontsize=17)\n",
    "plt.xlabel('Ad Group Name Lengths', fontsize=15)\n",
    "plt.ylabel('Count', fontsize=15)\n",
    "plt.yticks(range(11))\n",
    "plt.xticks(range(0, 51, 5))\n",
    "plt.grid(alpha=0.5)\n",
    "plt.show()"
   ]
  },
  {
   "cell_type": "markdown",
   "metadata": {},
   "source": [
    "It seems our problem is not a trivial one, and there is no straightforward way of dealing with it. Ideally, we would like to have the two headlines contain the full title of the product (course) that we are promoting.   \n",
    "I thought of different ways around it, and decided to write a simple algorithm that splits the name into two phrases, each containing at most thirty characters. \n",
    "\n",
    "The algorithm is not suitable for general use, and needs some tweaks to make it general, but it works well enough for this data set. "
   ]
  },
  {
   "cell_type": "code",
   "execution_count": null,
   "metadata": {},
   "outputs": [],
   "source": [
    "def split_string(string, splits=2, max_len=60):\n",
    "    \"\"\"Split `string` into `splits` words, each shorter than `max_len` / `splits`\"\"\"\n",
    "    if len(string) < max_len / splits:\n",
    "        return string, ''\n",
    "    str_words = string.split(' ')\n",
    "    result = ''\n",
    "    for i, word in enumerate(str_words):\n",
    "        if len(result + ' ' + word) <= max_len / splits:\n",
    "            result += word + ' '\n",
    "        else:\n",
    "            break\n",
    "    spaces = result.strip().count(' ')\n",
    "    result2 = string[string[len(result):].index(word) + len(result):]\n",
    "    return result.strip(), result2"
   ]
  },
  {
   "cell_type": "code",
   "execution_count": null,
   "metadata": {},
   "outputs": [],
   "source": [
    "print(split_string('this is a very long course name that needs splitting', 2, 60))\n",
    "print(split_string('short course name', 2, 60))"
   ]
  },
  {
   "cell_type": "markdown",
   "metadata": {},
   "source": [
    "This is not something that I do usually, but I like this technique, and I think I'll be using it when creating other campaigns. That's a nice side effect of writing a tutorial!     \n",
    "Now let's think about the templates that we want to write.   \n",
    "The general ad template that I use consists of the following elements (typically in this order).         \n",
    "* **Product**: If I'm searching for 'data science course' on Google, I need to see 'data science course' in the links / ads somewhere.\n",
    "* **Benefits**: This is the emotinal / psychological thing that people are really after, beyond just completing the course, 'boost your career', 'stand out from the crowd'. \n",
    "* **Features**: Now that you've promised me the moon, show me how you are going to get me there! 'over 100 data science courses', 'learn from top experts', 'get instant feedback on your coding skills'. \n",
    "* **Call to action**: Ok, so you told me what you have, you motivated me to buy it, and you showed me how I'm going to get there. I'm sold. What do I do now? 'sign up for a free trial', 'sample first chapters for free', 'save 20% on annual subscriptions'\n",
    "\n",
    "It's not easy to put all these in one ad which is a tweet long, and some of them may overlap. But we will try our best."
   ]
  },
  {
   "cell_type": "markdown",
   "metadata": {},
   "source": [
    "### 1. Ad Templates: \n",
    "\n",
    "* Headline 1: This will always contain the name of the course (or the first half). \n",
    "* Headline 2: The second half of the course name, or one of the following: \n",
    "    * Boost Your Data Science Career\n",
    "    * Stand Out From the Crowd\n",
    "    * Tackle Complex Questions\n",
    "* Description: each ad group will have the three variations below and they will rotate.\n",
    "    * Learn Directly From the Top Experts in the Field. 20% off Annual Subscriptions\n",
    "    * Get Ahead of the Curve, Master Data Science Skills. $29 / Month. Cancel Anytime\n",
    "    * Choose From a Wide Variety of Topics Tuaght by the Best in the World. Start Now    "
   ]
  },
  {
   "cell_type": "markdown",
   "metadata": {},
   "source": [
    "### 2. Crate `Campaign` Columns"
   ]
  },
  {
   "cell_type": "code",
   "execution_count": null,
   "metadata": {},
   "outputs": [],
   "source": [
    "full_keywords_df.Campaign.unique()  # just to make sure we have consistent naming conventions"
   ]
  },
  {
   "cell_type": "code",
   "execution_count": null,
   "metadata": {},
   "outputs": [],
   "source": [
    "course_df['Campaign'] = 'SEM_Courses'\n",
    "course_df = course_df.rename(columns={'name_clean': 'name', 'name': 'old_name'})\n",
    "course_df.head()"
   ]
  },
  {
   "cell_type": "code",
   "execution_count": null,
   "metadata": {},
   "outputs": [],
   "source": [
    "instructor_df['Campaign'] = 'SEM_Instructors'\n",
    "instructor_df.head()"
   ]
  },
  {
   "cell_type": "code",
   "execution_count": null,
   "metadata": {},
   "outputs": [],
   "source": [
    "tracks_df['Campaign'] = 'SEM_Tracks'\n",
    "tracks_df.head()"
   ]
  },
  {
   "cell_type": "code",
   "execution_count": null,
   "metadata": {},
   "outputs": [],
   "source": [
    "tech_domain = 'https://www.datacamp.com/courses/tech:'\n",
    "tech_domain_list = []\n",
    "for tech in ['R', 'Python', 'SQL', 'Git', 'Shell']:\n",
    "    tech_domain_list.append((tech, tech_domain + tech))\n",
    "tech_df = pd.DataFrame.from_records(tech_domain_list, columns=['name', 'url'])\n",
    "tech_df['Campaign'] = 'SEM_Technologies'\n",
    "tech_df"
   ]
  },
  {
   "cell_type": "markdown",
   "metadata": {},
   "source": [
    "### 3. Merge All (name, url) Data Frames"
   ]
  },
  {
   "cell_type": "code",
   "execution_count": null,
   "metadata": {},
   "outputs": [],
   "source": [
    "full_ads_df = pd.concat([course_df[['Campaign', 'name', 'url']],\n",
    "                        instructor_df,\n",
    "                        tracks_df,\n",
    "                        tech_df], ignore_index=True)\n",
    "full_ads_df = full_ads_df.rename(columns={'name': 'Ad Group', 'url': 'Final URL'})\n",
    "print('total rows:', full_ads_df.shape[0])\n",
    "n_adgroups = full_ads_df.shape[0]\n",
    "full_ads_df.head()"
   ]
  },
  {
   "cell_type": "markdown",
   "metadata": {},
   "source": [
    "### 4. Generate Ads (insert templates)\n",
    "\n",
    "Just to keep track of where we are. We now have the ads data frame containg `Campaign`, `Ad Group`, and `Final URL` columns properly mapped. We need to add the `Headline 1`, `Headline 2`, and `Description` Fields. Keep in mind that for each ad group we will be adding three different ad variation. This is a good practice mainly for testing purposes, to see what people click on, which ads convert more, etc. We should end up with a data frame that has three times number of rows of the current one.    \n",
    "\n",
    "Let's start by duplicating each row three times, in the `full_ads_df`:"
   ]
  },
  {
   "cell_type": "code",
   "execution_count": null,
   "metadata": {},
   "outputs": [],
   "source": [
    "full_ads_df = full_ads_df.iloc[[x  for x in range(n_adgroups) for i in range(3)], :] \n",
    "print('total rows:', full_ads_df.shape[0])\n",
    "full_ads_df.head(9)"
   ]
  },
  {
   "cell_type": "markdown",
   "metadata": {},
   "source": [
    "We now add the three different descriptions we created above. "
   ]
  },
  {
   "cell_type": "code",
   "execution_count": null,
   "metadata": {},
   "outputs": [],
   "source": [
    "Description = [\n",
    "    'Learn Directly From the Top Experts in the Field. 20% off Annual Subcriptions',\n",
    "    'Be Ahead of the Curve, Master Data Science Skills. $29 / Month. Cancel Anytime',\n",
    "    'Choose From a Wide Variety of Topics Tuaght by the Best in the World. Start Now'   \n",
    "]\n",
    "Description = [x for i in range(n_adgroups) for x in Description ]\n",
    "full_ads_df['Description'] = Description\n",
    "full_ads_df.head()"
   ]
  },
  {
   "cell_type": "markdown",
   "metadata": {},
   "source": [
    "Next we add `Headline 1` and `Headline 2` to the data frame. We are almost done!"
   ]
  },
  {
   "cell_type": "code",
   "execution_count": null,
   "metadata": {},
   "outputs": [],
   "source": [
    "benefits = [\n",
    "    'Boost Your Data Science Career',\n",
    "    'Stand Out From the Crowd',\n",
    "    'Tackle Complex Questions'    \n",
    "]"
   ]
  },
  {
   "cell_type": "markdown",
   "metadata": {},
   "source": [
    "The benefits will be included as `Headline 2` in the cases where the length of the ad group is 30 or less. In this case we would have an empty field, which we will fill with one of the benefits that we have. "
   ]
  },
  {
   "cell_type": "code",
   "execution_count": null,
   "metadata": {},
   "outputs": [],
   "source": [
    "benefits = [x for i in range(n_adgroups) for x in benefits]\n",
    "headlines = [split_string(x) for x in full_ads_df['Ad Group']]\n",
    "full_ads_df['Headline 1'] = [x[0] for x in headlines]\n",
    "full_ads_df['Headline 2'] = [x[1] if x[1] else benefits[i] for i, x in enumerate(headlines)]\n",
    "print('total ads:', full_ads_df.shape[0])\n",
    "full_ads_df.head(9)"
   ]
  },
  {
   "cell_type": "markdown",
   "metadata": {},
   "source": [
    "As you can see \"Intro to Python for Data Science\" was long enough to take two fields, so we keep it as is, to keep it clear. In the second case \"Introduction to R\" fits in the first headline, so we insert the three different benefits that we created in `Headline 2`.    \n",
    "And we are done!    \n",
    "Just a quick check, to make sure that all campaign and ad group names in both data frames are the same."
   ]
  },
  {
   "cell_type": "code",
   "execution_count": null,
   "metadata": {},
   "outputs": [],
   "source": [
    "ads_check = (full_ads_df[['Campaign', 'Ad Group']]\n",
    "             .drop_duplicates()\n",
    "             .sort_values(['Campaign', 'Ad Group'])\n",
    "             .reset_index(drop=True))\n",
    "keywords_check = (full_keywords_df[['Campaign', 'Ad Group']]\n",
    "                  .drop_duplicates()\n",
    "                  .sort_values(['Campaign', 'Ad Group'])\n",
    "                  .reset_index(drop=True))\n",
    "\n",
    "all(ads_check == keywords_check)"
   ]
  },
  {
   "cell_type": "code",
   "execution_count": null,
   "metadata": {},
   "outputs": [],
   "source": [
    "full_ads_df.to_csv('ads.csv', index=False)"
   ]
  },
  {
   "cell_type": "markdown",
   "metadata": {},
   "source": [
    "With the two csv files we have now, we can upload them and start running our campaigns. We will need to set daily budgets, geo-targeting and a few other parameters, but mostly we are good to go. \n",
    "\n",
    "You can check them out here: \n",
    "\n",
    "[keywords](keywords.csv)    \n",
    "[ads](ads.csv)\n",
    "\n",
    "I hope you found that useful. \n",
    "Thanks for reading. "
   ]
  }
 ],
 "metadata": {
  "kernelspec": {
   "display_name": "Python 3",
   "language": "python",
   "name": "python3"
  },
  "language_info": {
   "codemirror_mode": {
    "name": "ipython",
    "version": 3
   },
   "file_extension": ".py",
   "mimetype": "text/x-python",
   "name": "python",
   "nbconvert_exporter": "python",
   "pygments_lexer": "ipython3",
   "version": "3.6.3"
  }
 },
 "nbformat": 4,
 "nbformat_minor": 2
}
